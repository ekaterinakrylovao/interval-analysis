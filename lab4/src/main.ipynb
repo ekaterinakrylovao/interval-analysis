{
 "cells": [
  {
   "cell_type": "code",
   "metadata": {
    "ExecuteTime": {
     "end_time": "2025-01-15T20:05:12.920755Z",
     "start_time": "2025-01-15T20:05:12.270043Z"
    }
   },
   "source": [
    "import os\n",
    "import struct\n",
    "import numpy as np\n",
    "import intvalpy as ip\n",
    "import matplotlib.pyplot as plt\n",
    "from pathlib import Path\n",
    "from tqdm import tqdm"
   ],
   "outputs": [],
   "execution_count": 1
  },
  {
   "cell_type": "code",
   "metadata": {
    "ExecuteTime": {
     "end_time": "2025-01-15T20:05:31.089585Z",
     "start_time": "2025-01-15T20:05:31.084959Z"
    }
   },
   "source": [
    "def read_bin_file_with_numpy(file_path):\n",
    "  with open(file_path, 'rb') as f:\n",
    "    header_data = f.read(256)\n",
    "    side, mode, frame_count = struct.unpack('<BBH', header_data[:4])\n",
    "\n",
    "    frames = []\n",
    "    point_dtype = np.dtype('<8H')\n",
    "\n",
    "    for _ in range(frame_count):\n",
    "      frame_header_data = f.read(16)\n",
    "      stop_point, timestamp = struct.unpack('<HL', frame_header_data[:6])\n",
    "      frame_data = np.frombuffer(f.read(1024 * 16), dtype=point_dtype)\n",
    "      frames.append(frame_data)\n",
    "\n",
    "    return np.array(frames)"
   ],
   "outputs": [],
   "execution_count": 2
  },
  {
   "cell_type": "code",
   "metadata": {
    "ExecuteTime": {
     "end_time": "2025-01-15T20:05:33.427991Z",
     "start_time": "2025-01-15T20:05:33.423517Z"
    }
   },
   "source": [
    "def convert_to_voltage(data):\n",
    "  return data / 16384.0 - 0.5"
   ],
   "outputs": [],
   "execution_count": 3
  },
  {
   "cell_type": "code",
   "metadata": {
    "ExecuteTime": {
     "end_time": "2025-01-15T20:05:35.159791Z",
     "start_time": "2025-01-15T20:05:35.155631Z"
    }
   },
   "source": [
    "def scalar_to_interval(x, rad):\n",
    "  return ip.Interval(x - rad, x + rad)\n",
    "scalar_to_interval_vec = np.vectorize(scalar_to_interval)"
   ],
   "outputs": [],
   "execution_count": 4
  },
  {
   "cell_type": "code",
   "metadata": {
    "ExecuteTime": {
     "end_time": "2025-01-15T20:05:36.629401Z",
     "start_time": "2025-01-15T20:05:36.625253Z"
    }
   },
   "source": [
    "def get_iqr(x):\n",
    "  q1 = np.percentile(x, 25, axis=0)\n",
    "  q3 = np.percentile(x, 75, axis=0)\n",
    "  return q1, q3"
   ],
   "outputs": [],
   "execution_count": 5
  },
  {
   "cell_type": "code",
   "metadata": {
    "ExecuteTime": {
     "end_time": "2025-01-15T20:05:38.287098Z",
     "start_time": "2025-01-15T20:05:38.282409Z"
    }
   },
   "source": [
    "def get_box_plot(x):\n",
    "  q1 = np.percentile(x, 25, axis=0)\n",
    "  q3 = np.percentile(x, 75, axis=0)\n",
    "  iqr = q3 - q1\n",
    "  lower_bound = q1 - 1.5 * iqr\n",
    "  upper_bound = q3 + 1.5 * iqr\n",
    "  return lower_bound, upper_bound"
   ],
   "outputs": [],
   "execution_count": 6
  },
  {
   "cell_type": "code",
   "metadata": {
    "ExecuteTime": {
     "end_time": "2025-01-15T20:05:39.856075Z",
     "start_time": "2025-01-15T20:05:39.851185Z"
    }
   },
   "source": [
    "def intersect_intervals(intervals):\n",
    "  if len(intervals) == 0:\n",
    "    return ip.Interval(np.nan, np.nan)\n",
    "\n",
    "  result = intervals[0]\n",
    "\n",
    "  if len(intervals) == 1:\n",
    "    return result\n",
    "\n",
    "  for interval in intervals:\n",
    "    result = ip.intersection(result, interval)\n",
    "\n",
    "  return result"
   ],
   "outputs": [],
   "execution_count": 7
  },
  {
   "cell_type": "code",
   "metadata": {
    "ExecuteTime": {
     "end_time": "2025-01-15T20:05:41.913101Z",
     "start_time": "2025-01-15T20:05:41.908639Z"
    }
   },
   "source": [
    "def are_intersected(x, y):\n",
    "  sup = y.a if x.a < y.a else x.a\n",
    "  inf = x.b if x.b < y.b else y.b\n",
    "  return sup - inf <= 1e-15"
   ],
   "outputs": [],
   "execution_count": 8
  },
  {
   "cell_type": "code",
   "metadata": {
    "ExecuteTime": {
     "end_time": "2025-01-15T20:05:43.360650Z",
     "start_time": "2025-01-15T20:05:43.356294Z"
    }
   },
   "source": [
    "def are_adjusted_to_each_other(x, y):\n",
    "  return x.b == y.a or y.b == x.a"
   ],
   "outputs": [],
   "execution_count": 9
  },
  {
   "cell_type": "code",
   "metadata": {
    "ExecuteTime": {
     "end_time": "2025-01-15T20:05:44.607366Z",
     "start_time": "2025-01-15T20:05:44.603800Z"
    }
   },
   "source": [
    "def merge_intervals(x, y):\n",
    "  return ip.Interval(min(x.a, y.a), max(x.b, y.b))"
   ],
   "outputs": [],
   "execution_count": 10
  },
  {
   "cell_type": "code",
   "metadata": {
    "ExecuteTime": {
     "end_time": "2025-01-15T20:05:45.872674Z",
     "start_time": "2025-01-15T20:05:45.866404Z"
    }
   },
   "source": [
    "def mode(x):\n",
    "  if len(x) == 0:\n",
    "    return []\n",
    "\n",
    "  edges = sorted({x_i.a for x_i in x}.union({x_i.b for x_i in x}))\n",
    "  z = [ip.Interval(edges[i], edges[i + 1]) for i in range(len(edges) - 1)]\n",
    "  mu = [sum(1 for x_i in x if z_i in x_i) for z_i in z]\n",
    "\n",
    "  max_mu = max(mu)\n",
    "  K = [index for index, element in enumerate(mu) if element == max_mu]\n",
    "\n",
    "  m = [z[k] for k in K]\n",
    "  merged_m = []\n",
    "\n",
    "  current_interval = m[0]\n",
    "\n",
    "  for next_interval in m[1:]:\n",
    "    if are_intersected(current_interval, next_interval) or are_adjusted_to_each_other(current_interval, next_interval):\n",
    "      current_interval = merge_intervals(current_interval, next_interval)\n",
    "    else:\n",
    "      merged_m.append(current_interval)\n",
    "      current_interval = next_interval\n",
    "\n",
    "  merged_m.append(current_interval)\n",
    "\n",
    "  return merged_m"
   ],
   "outputs": [],
   "execution_count": 11
  },
  {
   "cell_type": "code",
   "metadata": {
    "ExecuteTime": {
     "end_time": "2025-01-15T20:05:48.230394Z",
     "start_time": "2025-01-15T20:05:48.225940Z"
    }
   },
   "source": [
    "def med_k(x):\n",
    "  starts = [float(interval.a) for interval in x]\n",
    "  ends = [float(interval.b) for interval in x]\n",
    "  return ip.Interval(np.median(starts), np.median(ends))"
   ],
   "outputs": [],
   "execution_count": 12
  },
  {
   "cell_type": "code",
   "metadata": {
    "ExecuteTime": {
     "end_time": "2025-01-15T20:05:50.679291Z",
     "start_time": "2025-01-15T20:05:50.672320Z"
    }
   },
   "source": [
    "data_folder = Path('data')\n",
    "files = sorted([data_folder / f for f in os.listdir(data_folder) if f.endswith('.bin')])\n",
    "files"
   ],
   "outputs": [
    {
     "data": {
      "text/plain": [
       "[WindowsPath('data/-0.027_lvl_side_a_fast_data.bin'),\n",
       " WindowsPath('data/-0.205_lvl_side_a_fast_data.bin'),\n",
       " WindowsPath('data/-0.471_lvl_side_a_fast_data.bin'),\n",
       " WindowsPath('data/-0.492_lvl_side_a_fast_data.bin'),\n",
       " WindowsPath('data/0.061_lvl_side_a_fast_data.bin'),\n",
       " WindowsPath('data/0.225_lvl_side_a_fast_data.bin'),\n",
       " WindowsPath('data/0.43_lvl_side_a_fast_data.bin'),\n",
       " WindowsPath('data/0_lvl_side_a_fast_data_last.bin')]"
      ]
     },
     "execution_count": 13,
     "metadata": {},
     "output_type": "execute_result"
    }
   ],
   "execution_count": 13
  },
  {
   "cell_type": "code",
   "metadata": {
    "ExecuteTime": {
     "end_time": "2025-01-15T20:05:54.311783Z",
     "start_time": "2025-01-15T20:05:54.308622Z"
    }
   },
   "source": [
    "estimation_functions = [\n",
    "  ('IQR', get_iqr),\n",
    "  ('Box plot', get_box_plot),\n",
    "]"
   ],
   "outputs": [],
   "execution_count": 14
  },
  {
   "cell_type": "code",
   "metadata": {
    "ExecuteTime": {
     "end_time": "2025-01-15T20:25:58.338943Z",
     "start_time": "2025-01-15T20:05:56.068406Z"
    }
   },
   "source": [
    "rad = 2 ** -14\n",
    "\n",
    "for estimation_name, estimation_f in estimation_functions:\n",
    "  beta_0s = []\n",
    "  beta_1s = []\n",
    "\n",
    "  px_num = 1024 * 8\n",
    "\n",
    "  for px_index in tqdm(range(px_num), desc=estimation_name):\n",
    "    A = []\n",
    "    b = []\n",
    "\n",
    "    for file_path in files:\n",
    "      x = float(file_path.name.split('_')[0])\n",
    "      frames = read_bin_file_with_numpy(file_path)\n",
    "      ys = []\n",
    "\n",
    "      for frame in frames:\n",
    "        px = frame.flatten()[px_index]\n",
    "        ys.append(px)\n",
    "\n",
    "      y = estimation_f(ys)\n",
    "\n",
    "      A.append([[x - rad, x + rad], [1 - rad, 1 + rad]])\n",
    "      b.append(y)\n",
    "\n",
    "    A = ip.Interval(A)\n",
    "    b = ip.Interval(b)\n",
    "\n",
    "    x = ip.linear.Rohn(A, b)\n",
    "    beta_0s.append(x[1])\n",
    "    beta_1s.append(x[0])\n",
    "\n",
    "  beta_0_intersected = intersect_intervals(beta_0s)\n",
    "  beta_1_intersected = intersect_intervals(beta_1s)\n",
    "  print('Intersection: ', beta_0_intersected, beta_1_intersected)\n",
    "\n",
    "  beta_0_med_k = med_k(beta_0s)\n",
    "  beta_1_med_k = med_k(beta_1s)\n",
    "  print('Med_k: ', beta_0_med_k, beta_1_med_k)\n",
    "\n",
    "  beta_0_mode = mode(beta_0s)\n",
    "  beta_1_mode = mode(beta_1s)\n",
    "  print('Mode: ', beta_0_mode, beta_1_mode)"
   ],
   "outputs": [
    {
     "name": "stderr",
     "output_type": "stream",
     "text": [
      "IQR: 100%|██████████| 8192/8192 [02:02<00:00, 66.84it/s]\n"
     ]
    },
    {
     "name": "stdout",
     "output_type": "stream",
     "text": [
      "Intersection:  '[nan, nan]' '[nan, nan]'\n",
      "Med_k:  '[8027.87, 8192.17]' '[12853.4, 13293.1]'\n",
      "Mode:  ['[8086.35, 8086.42]', '[8086.42, 8086.43]', '[8086.46, 8086.47]', '[8086.88, 8086.88]'] ['[13070.5, 13072.5]']\n"
     ]
    },
    {
     "name": "stderr",
     "output_type": "stream",
     "text": [
      "Box plot: 100%|██████████| 8192/8192 [02:02<00:00, 66.98it/s]\n"
     ]
    },
    {
     "name": "stdout",
     "output_type": "stream",
     "text": [
      "Intersection:  '[7927.51, 8224.58]' '[13097.9, 13573.8]'\n",
      "Med_k:  '[7779.14, 8431.57]' '[12189.2, 13954.1]'\n",
      "Mode:  ['[7927.51, 8224.58]'] ['[13097.9, 13573.8]']\n"
     ]
    }
   ],
   "execution_count": 15
  },
  {
   "cell_type": "code",
   "metadata": {
    "ExecuteTime": {
     "end_time": "2025-01-15T20:26:08.899993Z",
     "start_time": "2025-01-15T20:26:08.711066Z"
    }
   },
   "source": [
    "beta_0_int = ip.Interval(8086.35, 8086.88)\n",
    "beta_1_int = ip.Interval(13070.5, 13072.5)\n",
    "\n",
    "beta_0_ext = ip.Interval(7927.51, 8224.58)\n",
    "beta_1_ext = ip.Interval(13097.9, 13573.8)\n",
    "\n",
    "xs = np.array([float(file_path.name.split('_')[0]) for file_path in files])\n",
    "xs_continuous = np.linspace(xs.min(), xs.max(), 100)\n",
    "\n",
    "for (beta_0, beta_1) in ((beta_0_int, beta_1_int), (beta_0_ext, beta_1_ext)):\n",
    "  ys = beta_0 + beta_1 * xs_continuous\n",
    "  ys_a = np.array([float(interval.a) for interval in ys])\n",
    "  ys_b = np.array([float(interval.b) for interval in ys])\n",
    "\n",
    "  plt.figure(figsize=(8, 6))\n",
    "  plt.fill_between(xs_continuous, ys_a, ys_b, alpha=0.3)\n",
    "  plt.plot(xs_continuous, ys_a, color='red', linewidth=0.5)\n",
    "  plt.plot(xs_continuous, ys_b, color='red', linewidth=0.5)\n",
    "  plt.plot(xs_continuous, (ys_a + ys_b) / 2, color='red', linewidth=0.5)\n",
    "  plt.xlabel('x')\n",
    "  plt.ylabel('y')\n",
    "  plt.show()"
   ],
   "outputs": [
    {
     "data": {
      "text/plain": [
       "<Figure size 800x600 with 1 Axes>"
      ],
      "image/png": "[encoded data removed]"
     },
     "metadata": {},
     "output_type": "display_data"
    },
    {
     "data": {
      "text/plain": [
       "<Figure size 800x600 with 1 Axes>"
      ],
      "image/png": "[encoded data removed]"
     },
     "metadata": {},
     "output_type": "display_data"
    }
   ],
   "execution_count": 16
  }
 ],
 "metadata": {
  "kernelspec": {
   "display_name": "base",
   "language": "python",
   "name": "python3"
  },
  "language_info": {
   "codemirror_mode": {
    "name": "ipython",
    "version": 3
   },
   "file_extension": ".py",
   "mimetype": "text/x-python",
   "name": "python",
   "nbconvert_exporter": "python",
   "pygments_lexer": "ipython3",
   "version": "3.12.2"
  }
 },
 "nbformat": 4,
 "nbformat_minor": 2
}
